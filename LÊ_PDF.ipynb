{
  "nbformat": 4,
  "nbformat_minor": 0,
  "metadata": {
    "colab": {
      "provenance": [],
      "authorship_tag": "ABX9TyMzFkBytYM60bRFM8UI96/5",
      "include_colab_link": true
    },
    "kernelspec": {
      "name": "python3",
      "display_name": "Python 3"
    },
    "language_info": {
      "name": "python"
    }
  },
  "cells": [
    {
      "cell_type": "markdown",
      "metadata": {
        "id": "view-in-github",
        "colab_type": "text"
      },
      "source": [
        "<a href=\"https://colab.research.google.com/github/Rodrigoradzinski/CALCULOIMPOSTO/blob/main/L%C3%8A_PDF.ipynb\" target=\"_parent\"><img src=\"https://colab.research.google.com/assets/colab-badge.svg\" alt=\"Open In Colab\"/></a>"
      ]
    },
    {
      "cell_type": "code",
      "execution_count": 17,
      "metadata": {
        "colab": {
          "base_uri": "https://localhost:8080/"
        },
        "id": "FhKHAuOQEwjH",
        "outputId": "d6550745-d9f5-4cb2-ebdc-787b93529fba"
      },
      "outputs": [
        {
          "output_type": "stream",
          "name": "stdout",
          "text": [
            "Processando /content/PDF1 (1).pdf...\n",
            "Processando /content/PDF1 (2).pdf...\n"
          ]
        },
        {
          "output_type": "stream",
          "name": "stderr",
          "text": [
            "<ipython-input-17-e8c991134757>:31: FutureWarning: The frame.append method is deprecated and will be removed from pandas in a future version. Use pandas.concat instead.\n",
            "  df = df.append({\n",
            "<ipython-input-17-e8c991134757>:31: FutureWarning: The frame.append method is deprecated and will be removed from pandas in a future version. Use pandas.concat instead.\n",
            "  df = df.append({\n",
            "<ipython-input-17-e8c991134757>:31: FutureWarning: The frame.append method is deprecated and will be removed from pandas in a future version. Use pandas.concat instead.\n",
            "  df = df.append({\n",
            "<ipython-input-17-e8c991134757>:31: FutureWarning: The frame.append method is deprecated and will be removed from pandas in a future version. Use pandas.concat instead.\n",
            "  df = df.append({\n",
            "<ipython-input-17-e8c991134757>:31: FutureWarning: The frame.append method is deprecated and will be removed from pandas in a future version. Use pandas.concat instead.\n",
            "  df = df.append({\n",
            "<ipython-input-17-e8c991134757>:31: FutureWarning: The frame.append method is deprecated and will be removed from pandas in a future version. Use pandas.concat instead.\n",
            "  df = df.append({\n",
            "<ipython-input-17-e8c991134757>:31: FutureWarning: The frame.append method is deprecated and will be removed from pandas in a future version. Use pandas.concat instead.\n",
            "  df = df.append({\n",
            "<ipython-input-17-e8c991134757>:31: FutureWarning: The frame.append method is deprecated and will be removed from pandas in a future version. Use pandas.concat instead.\n",
            "  df = df.append({\n",
            "<ipython-input-17-e8c991134757>:31: FutureWarning: The frame.append method is deprecated and will be removed from pandas in a future version. Use pandas.concat instead.\n",
            "  df = df.append({\n",
            "<ipython-input-17-e8c991134757>:31: FutureWarning: The frame.append method is deprecated and will be removed from pandas in a future version. Use pandas.concat instead.\n",
            "  df = df.append({\n",
            "<ipython-input-17-e8c991134757>:31: FutureWarning: The frame.append method is deprecated and will be removed from pandas in a future version. Use pandas.concat instead.\n",
            "  df = df.append({\n",
            "<ipython-input-17-e8c991134757>:31: FutureWarning: The frame.append method is deprecated and will be removed from pandas in a future version. Use pandas.concat instead.\n",
            "  df = df.append({\n",
            "<ipython-input-17-e8c991134757>:31: FutureWarning: The frame.append method is deprecated and will be removed from pandas in a future version. Use pandas.concat instead.\n",
            "  df = df.append({\n",
            "<ipython-input-17-e8c991134757>:31: FutureWarning: The frame.append method is deprecated and will be removed from pandas in a future version. Use pandas.concat instead.\n",
            "  df = df.append({\n"
          ]
        },
        {
          "output_type": "stream",
          "name": "stdout",
          "text": [
            "Processando /content/PDF1 (3).pdf...\n"
          ]
        },
        {
          "output_type": "stream",
          "name": "stderr",
          "text": [
            "<ipython-input-17-e8c991134757>:31: FutureWarning: The frame.append method is deprecated and will be removed from pandas in a future version. Use pandas.concat instead.\n",
            "  df = df.append({\n",
            "<ipython-input-17-e8c991134757>:31: FutureWarning: The frame.append method is deprecated and will be removed from pandas in a future version. Use pandas.concat instead.\n",
            "  df = df.append({\n",
            "<ipython-input-17-e8c991134757>:31: FutureWarning: The frame.append method is deprecated and will be removed from pandas in a future version. Use pandas.concat instead.\n",
            "  df = df.append({\n",
            "<ipython-input-17-e8c991134757>:31: FutureWarning: The frame.append method is deprecated and will be removed from pandas in a future version. Use pandas.concat instead.\n",
            "  df = df.append({\n",
            "<ipython-input-17-e8c991134757>:31: FutureWarning: The frame.append method is deprecated and will be removed from pandas in a future version. Use pandas.concat instead.\n",
            "  df = df.append({\n",
            "<ipython-input-17-e8c991134757>:31: FutureWarning: The frame.append method is deprecated and will be removed from pandas in a future version. Use pandas.concat instead.\n",
            "  df = df.append({\n",
            "<ipython-input-17-e8c991134757>:31: FutureWarning: The frame.append method is deprecated and will be removed from pandas in a future version. Use pandas.concat instead.\n",
            "  df = df.append({\n",
            "<ipython-input-17-e8c991134757>:31: FutureWarning: The frame.append method is deprecated and will be removed from pandas in a future version. Use pandas.concat instead.\n",
            "  df = df.append({\n",
            "<ipython-input-17-e8c991134757>:31: FutureWarning: The frame.append method is deprecated and will be removed from pandas in a future version. Use pandas.concat instead.\n",
            "  df = df.append({\n",
            "<ipython-input-17-e8c991134757>:31: FutureWarning: The frame.append method is deprecated and will be removed from pandas in a future version. Use pandas.concat instead.\n",
            "  df = df.append({\n",
            "<ipython-input-17-e8c991134757>:31: FutureWarning: The frame.append method is deprecated and will be removed from pandas in a future version. Use pandas.concat instead.\n",
            "  df = df.append({\n",
            "<ipython-input-17-e8c991134757>:31: FutureWarning: The frame.append method is deprecated and will be removed from pandas in a future version. Use pandas.concat instead.\n",
            "  df = df.append({\n",
            "<ipython-input-17-e8c991134757>:31: FutureWarning: The frame.append method is deprecated and will be removed from pandas in a future version. Use pandas.concat instead.\n",
            "  df = df.append({\n",
            "<ipython-input-17-e8c991134757>:31: FutureWarning: The frame.append method is deprecated and will be removed from pandas in a future version. Use pandas.concat instead.\n",
            "  df = df.append({\n",
            "<ipython-input-17-e8c991134757>:31: FutureWarning: The frame.append method is deprecated and will be removed from pandas in a future version. Use pandas.concat instead.\n",
            "  df = df.append({\n",
            "<ipython-input-17-e8c991134757>:31: FutureWarning: The frame.append method is deprecated and will be removed from pandas in a future version. Use pandas.concat instead.\n",
            "  df = df.append({\n",
            "<ipython-input-17-e8c991134757>:31: FutureWarning: The frame.append method is deprecated and will be removed from pandas in a future version. Use pandas.concat instead.\n",
            "  df = df.append({\n"
          ]
        },
        {
          "output_type": "stream",
          "name": "stdout",
          "text": [
            "Processando /content/PDF1 (4).pdf...\n",
            "Processando /content/PDF1 (5).pdf...\n"
          ]
        },
        {
          "output_type": "stream",
          "name": "stderr",
          "text": [
            "<ipython-input-17-e8c991134757>:31: FutureWarning: The frame.append method is deprecated and will be removed from pandas in a future version. Use pandas.concat instead.\n",
            "  df = df.append({\n",
            "<ipython-input-17-e8c991134757>:31: FutureWarning: The frame.append method is deprecated and will be removed from pandas in a future version. Use pandas.concat instead.\n",
            "  df = df.append({\n",
            "<ipython-input-17-e8c991134757>:31: FutureWarning: The frame.append method is deprecated and will be removed from pandas in a future version. Use pandas.concat instead.\n",
            "  df = df.append({\n",
            "<ipython-input-17-e8c991134757>:31: FutureWarning: The frame.append method is deprecated and will be removed from pandas in a future version. Use pandas.concat instead.\n",
            "  df = df.append({\n",
            "<ipython-input-17-e8c991134757>:31: FutureWarning: The frame.append method is deprecated and will be removed from pandas in a future version. Use pandas.concat instead.\n",
            "  df = df.append({\n",
            "<ipython-input-17-e8c991134757>:31: FutureWarning: The frame.append method is deprecated and will be removed from pandas in a future version. Use pandas.concat instead.\n",
            "  df = df.append({\n",
            "<ipython-input-17-e8c991134757>:31: FutureWarning: The frame.append method is deprecated and will be removed from pandas in a future version. Use pandas.concat instead.\n",
            "  df = df.append({\n",
            "<ipython-input-17-e8c991134757>:31: FutureWarning: The frame.append method is deprecated and will be removed from pandas in a future version. Use pandas.concat instead.\n",
            "  df = df.append({\n",
            "<ipython-input-17-e8c991134757>:31: FutureWarning: The frame.append method is deprecated and will be removed from pandas in a future version. Use pandas.concat instead.\n",
            "  df = df.append({\n",
            "<ipython-input-17-e8c991134757>:31: FutureWarning: The frame.append method is deprecated and will be removed from pandas in a future version. Use pandas.concat instead.\n",
            "  df = df.append({\n",
            "<ipython-input-17-e8c991134757>:31: FutureWarning: The frame.append method is deprecated and will be removed from pandas in a future version. Use pandas.concat instead.\n",
            "  df = df.append({\n",
            "<ipython-input-17-e8c991134757>:31: FutureWarning: The frame.append method is deprecated and will be removed from pandas in a future version. Use pandas.concat instead.\n",
            "  df = df.append({\n",
            "<ipython-input-17-e8c991134757>:31: FutureWarning: The frame.append method is deprecated and will be removed from pandas in a future version. Use pandas.concat instead.\n",
            "  df = df.append({\n",
            "<ipython-input-17-e8c991134757>:31: FutureWarning: The frame.append method is deprecated and will be removed from pandas in a future version. Use pandas.concat instead.\n",
            "  df = df.append({\n",
            "<ipython-input-17-e8c991134757>:31: FutureWarning: The frame.append method is deprecated and will be removed from pandas in a future version. Use pandas.concat instead.\n",
            "  df = df.append({\n",
            "<ipython-input-17-e8c991134757>:31: FutureWarning: The frame.append method is deprecated and will be removed from pandas in a future version. Use pandas.concat instead.\n",
            "  df = df.append({\n",
            "<ipython-input-17-e8c991134757>:31: FutureWarning: The frame.append method is deprecated and will be removed from pandas in a future version. Use pandas.concat instead.\n",
            "  df = df.append({\n",
            "<ipython-input-17-e8c991134757>:31: FutureWarning: The frame.append method is deprecated and will be removed from pandas in a future version. Use pandas.concat instead.\n",
            "  df = df.append({\n",
            "<ipython-input-17-e8c991134757>:31: FutureWarning: The frame.append method is deprecated and will be removed from pandas in a future version. Use pandas.concat instead.\n",
            "  df = df.append({\n"
          ]
        },
        {
          "output_type": "stream",
          "name": "stdout",
          "text": [
            "Processando /content/PDF1 (6).pdf...\n",
            "Processando /content/PDF1 (7).pdf...\n",
            "Processando /content/PDF1 (8).pdf...\n"
          ]
        }
      ],
      "source": [
        "import os\n",
        "import re\n",
        "import PyPDF2\n",
        "import pandas as pd  # Importar pandas\n",
        "\n",
        "def extrair_campos(pdf_path, pdf_number):\n",
        "    # Inicializar um DataFrame vazio\n",
        "    df = pd.DataFrame(columns=['N', 'Projeto', 'Código', 'Descrição', 'Leg', 'Largura', 'Altura', 'Qt', 'PDF'])\n",
        "\n",
        "    # Abrir o arquivo PDF\n",
        "    pdf_file = open(pdf_path, 'rb')\n",
        "\n",
        "    # Criar um objeto reader\n",
        "    try:\n",
        "        pdf_reader = PyPDF2.PdfReader(pdf_file)\n",
        "    except AttributeError:\n",
        "        pdf_reader = PyPDF2.PdfFileReader(pdf_file)\n",
        "\n",
        "    # Loop para ler cada página\n",
        "    for page_num in range(len(pdf_reader.pages)):\n",
        "        page = pdf_reader.pages[page_num]\n",
        "        text = page.extract_text()\n",
        "\n",
        "        # Utilizar regex para encontrar os campos\n",
        "        for line in text.split('\\n'):\n",
        "            match = re.search(r'(\\d+)\\s+(\\d+)\\s+(\\d+)\\s+(\\w+)\\s+(\\w+)\\s+(\\d+)\\s+(\\d+)\\s+(\\d+)', line)\n",
        "            if match:\n",
        "                n, projeto, codigo, descricao, leg, largura, altura, quantidade = match.groups()\n",
        "\n",
        "                # Adicionar linha ao DataFrame\n",
        "                df = df.append({\n",
        "                    'N': n,\n",
        "                    'Projeto': projeto,\n",
        "                    'Código': codigo,\n",
        "                    'Descrição': descricao,\n",
        "                    'Leg': leg,\n",
        "                    'Largura': largura,\n",
        "                    'Altura': altura,\n",
        "                    'Qt': quantidade,\n",
        "                    'PDF': pdf_number  # Adicionar o número do PDF\n",
        "                }, ignore_index=True)\n",
        "\n",
        "    return df\n",
        "\n",
        "# Lista de arquivos PDF\n",
        "pdf_files = [f\"/content/PDF1 ({i}).pdf\" for i in range(1, 9)]  # Ajuste a gama e o caminho conforme necessário\n",
        "\n",
        "# DataFrame final que conterá todos os dados\n",
        "final_df = pd.DataFrame(columns=['N', 'Projeto', 'Código', 'Descrição', 'Leg', 'Largura', 'Altura', 'Qt', 'PDF'])\n",
        "\n",
        "# Loop para processar cada arquivo PDF\n",
        "for i, pdf_file in enumerate(pdf_files, start=1):\n",
        "    if os.path.exists(pdf_file):\n",
        "        print(f\"Processando {pdf_file}...\")\n",
        "        df = extrair_campos(pdf_file, i)  # Passar o número do PDF como segundo argumento\n",
        "        final_df = pd.concat([final_df, df], ignore_index=True)\n",
        "    else:\n",
        "        print(f\"Arquivo {pdf_file} não encontrado.\")\n",
        "\n",
        "# Salvar DataFrame final como CSV\n",
        "final_df.to_csv('dados_extraidos_final.csv', index=False)\n"
      ]
    }
  ]
}